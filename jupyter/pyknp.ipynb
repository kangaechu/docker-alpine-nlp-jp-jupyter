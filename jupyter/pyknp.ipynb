{
 "cells": [
  {
   "cell_type": "code",
   "execution_count": 1,
   "metadata": {},
   "outputs": [],
   "source": [
    "import pyknp"
   ]
  },
  {
   "cell_type": "code",
   "execution_count": 2,
   "metadata": {},
   "outputs": [],
   "source": [
    "jumanpp = pyknp.Jumanpp()"
   ]
  },
  {
   "cell_type": "code",
   "execution_count": 3,
   "metadata": {},
   "outputs": [
    {
     "name": "stdout",
     "output_type": "stream",
     "text": [
      "見出し:今日, 読み:きょう, 原形:今日, 品詞:名詞, 品詞細分類:時相名詞, 活用型:*, 活用形:*, 意味情報:代表表記:今日/きょう カテゴリ:時間, 代表表記:今日/きょう\n",
      "見出し:は, 読み:は, 原形:は, 品詞:助詞, 品詞細分類:副助詞, 活用型:*, 活用形:*, 意味情報:NIL, 代表表記:\n",
      "見出し:カレー, 読み:かれー, 原形:カレー, 品詞:名詞, 品詞細分類:普通名詞, 活用型:*, 活用形:*, 意味情報:代表表記:カレー/かれー ドメイン:料理・食事 カテゴリ:人工物-食べ物, 代表表記:カレー/かれー\n",
      "見出し:が, 読み:が, 原形:が, 品詞:助詞, 品詞細分類:格助詞, 活用型:*, 活用形:*, 意味情報:NIL, 代表表記:\n",
      "見出し:食べ, 読み:たべ, 原形:食べる, 品詞:動詞, 品詞細分類:*, 活用型:母音動詞, 活用形:基本連用形, 意味情報:代表表記:食べる/たべる ドメイン:料理・食事, 代表表記:食べる/たべる\n",
      "見出し:たい, 読み:たい, 原形:たい, 品詞:接尾辞, 品詞細分類:形容詞性述語接尾辞, 活用型:イ形容詞アウオ段, 活用形:基本形, 意味情報:代表表記:たい/たい, 代表表記:たい/たい\n",
      "見出し:。, 読み:。, 原形:。, 品詞:特殊, 品詞細分類:句点, 活用型:*, 活用形:*, 意味情報:NIL, 代表表記:\n"
     ]
    }
   ],
   "source": [
    "result = jumanpp.analysis('今日はカレーが食べたい。')\n",
    "for mrph in result.mrph_list(): \n",
    "    print(\"見出し:{}, 読み:{}, 原形:{}, 品詞:{}, 品詞細分類:{}, 活用型:{}, 活用形:{}, 意味情報:{}, 代表表記:{}\".format(\n",
    "    mrph.midasi, mrph.yomi, mrph.genkei, mrph.hinsi, mrph.bunrui, mrph.katuyou1, mrph.katuyou2, mrph.imis, mrph.repname))"
   ]
  },
  {
   "cell_type": "code",
   "execution_count": 4,
   "metadata": {},
   "outputs": [
    {
     "name": "stdout",
     "output_type": "stream",
     "text": [
      " 今日nはp─┐\n",
      " カレーnがp┤\n",
      "食べvたいs。*\n",
      " "
     ]
    }
   ],
   "source": [
    "knp = pyknp.KNP()\n",
    "result = knp.parse(\"今日はカレーが食べたい。\")\n",
    "result.draw_tag_tree()"
   ]
  }
 ],
 "metadata": {
  "kernelspec": {
   "display_name": "Python 3",
   "language": "python",
   "name": "python3"
  },
  "language_info": {
   "codemirror_mode": {
    "name": "ipython",
    "version": 3
   },
   "file_extension": ".py",
   "mimetype": "text/x-python",
   "name": "python",
   "nbconvert_exporter": "python",
   "pygments_lexer": "ipython3",
   "version": "3.6.3"
  }
 },
 "nbformat": 4,
 "nbformat_minor": 2
}
